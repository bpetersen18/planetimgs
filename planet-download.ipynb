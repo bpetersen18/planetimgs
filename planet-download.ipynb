{
 "cells": [
  {
   "cell_type": "code",
   "execution_count": 1,
   "metadata": {},
   "outputs": [
    {
     "name": "stderr",
     "output_type": "stream",
     "text": [
      "C:\\Users\\mnowatz\\AppData\\Local\\Temp\\ipykernel_50596\\1962284598.py:13: ClientV1DeprecationWarning: The planet.api module is deprecated and will be removed in version 2.0.0. For more details please see the discussion at https://github.com/planetlabs/planet-client-python/discussions.\n",
      "  from planet import api\n"
     ]
    }
   ],
   "source": [
    "import os\n",
    "import datetime\n",
    "import time\n",
    "from zipfile import ZipFile\n",
    "import json\n",
    "from pathlib import Path\n",
    "from pprint import pprint\n",
    "import tomli\n",
    "import geopandas as gpd\n",
    "import shapely\n",
    "import requests\n",
    "from requests.auth import HTTPBasicAuth\n",
    "from planet import api\n",
    "from planet import filters\n",
    "from shapely.geometry import shape"
   ]
  },
  {
   "cell_type": "code",
   "execution_count": 2,
   "metadata": {},
   "outputs": [
    {
     "data": {
      "text/plain": [
       "True"
      ]
     },
     "execution_count": 2,
     "metadata": {},
     "output_type": "execute_result"
    }
   ],
   "source": [
    "with open(\"config.toml\", \"rb\") as f:\n",
    "    config = tomli.load(f)\n",
    "API_KEY = config['keys']['api_key']\n",
    "API_KEY != None"
   ]
  },
  {
   "cell_type": "code",
   "execution_count": 3,
   "metadata": {},
   "outputs": [],
   "source": [
    "client = api.ClientV1(api_key=API_KEY)"
   ]
  },
  {
   "cell_type": "code",
   "execution_count": 49,
   "metadata": {},
   "outputs": [],
   "source": [
    "aoi_geom = gpd.read_file(\"data/accola_boundary_poly.geojson\")\n",
    "aoi_geom = aoi_geom.explode()\n",
    "aoi_geom = aoi_geom.to_json()\n",
    "aoi_geom = json.loads(aoi_geom)\n",
    "aoi_coords = aoi_geom['features'][0]['geometry']\n",
    "test_start_date = datetime.datetime(year=2019,month=6,day=1)\n",
    "test_stop_date = datetime.datetime(year=2019,month=6,day=30)"
   ]
  },
  {
   "cell_type": "code",
   "execution_count": 38,
   "metadata": {},
   "outputs": [],
   "source": [
    "# create an api request from the search specifications\n",
    "def build_request(aoi_geom, start_date, stop_date):\n",
    "    '''build a data api search request for clear PSScene 4-Band imagery'''\n",
    "    item_type = 'PSScene'\n",
    "    query = filters.and_filter(\n",
    "        filters.geom_filter(aoi_geom),\n",
    "        filters.range_filter('clear_percent', gte=90),\n",
    "        filters.date_range('acquired', gt=start_date),\n",
    "        filters.date_range('acquired', lt=stop_date)\n",
    "    )\n",
    "    return filters.build_search_request(query, ['PSScene'])"
   ]
  },
  {
   "cell_type": "code",
   "execution_count": 64,
   "metadata": {},
   "outputs": [
    {
     "data": {
      "text/plain": [
       "{'item_types': ['PSScene'],\n",
       " 'filter': {'type': 'AndFilter',\n",
       "  'config': ({'field_name': 'geometry',\n",
       "    'type': 'GeometryFilter',\n",
       "    'config': {'type': 'Polygon',\n",
       "     'coordinates': [[[-93.68086364941513, 41.98756192166665],\n",
       "       [-93.6528361843452, 41.98776639086707],\n",
       "       [-93.65305262630085, 41.97616375402928],\n",
       "       [-93.68074095705796, 41.97604456369364],\n",
       "       [-93.68086364941513, 41.98756192166665]]]}},\n",
       "   {'field_name': 'clear_percent',\n",
       "    'type': 'RangeFilter',\n",
       "    'config': {'gte': 90}},\n",
       "   {'field_name': 'acquired',\n",
       "    'type': 'DateRangeFilter',\n",
       "    'config': {'gt': '2019-06-01T00:00:00Z'}},\n",
       "   {'field_name': 'acquired',\n",
       "    'type': 'DateRangeFilter',\n",
       "    'config': {'lt': '2019-06-30T00:00:00Z'}})}}"
      ]
     },
     "execution_count": 64,
     "metadata": {},
     "output_type": "execute_result"
    }
   ],
   "source": [
    "request = build_request(aoi_coords, test_start_date, test_stop_date)\n",
    "request"
   ]
  },
  {
   "cell_type": "code",
   "execution_count": 65,
   "metadata": {},
   "outputs": [
    {
     "name": "stdout",
     "output_type": "stream",
     "text": [
      "15\n"
     ]
    }
   ],
   "source": [
    "# search the data api\n",
    "def search_data_api(request, client, limit=500):\n",
    "    result = client.quick_search(request)\n",
    "    \n",
    "    # this returns a generator\n",
    "    return result.items_iter(limit=limit)\n",
    "\n",
    "items = list(search_data_api(request, client))\n",
    "print(len(items))"
   ]
  },
  {
   "cell_type": "code",
   "execution_count": 1,
   "metadata": {},
   "outputs": [
    {
     "ename": "NameError",
     "evalue": "name 'items' is not defined",
     "output_type": "error",
     "traceback": [
      "\u001b[1;31m---------------------------------------------------------------------------\u001b[0m",
      "\u001b[1;31mNameError\u001b[0m                                 Traceback (most recent call last)",
      "Cell \u001b[1;32mIn [1], line 1\u001b[0m\n\u001b[1;32m----> 1\u001b[0m items\n",
      "\u001b[1;31mNameError\u001b[0m: name 'items' is not defined"
     ]
    }
   ],
   "source": [
    "items"
   ]
  },
  {
   "cell_type": "code",
   "execution_count": 66,
   "metadata": {},
   "outputs": [
    {
     "data": {
      "text/plain": [
       "['20190629_153143_1020', '20190629_164329_1024']"
      ]
     },
     "execution_count": 66,
     "metadata": {},
     "output_type": "execute_result"
    }
   ],
   "source": [
    "test_items = items[:2]\n",
    "# filter to item ids\n",
    "ids = [i['id'] for i in test_items]\n",
    "ids"
   ]
  },
  {
   "cell_type": "code",
   "execution_count": 67,
   "metadata": {},
   "outputs": [],
   "source": [
    "item_type = 'PSScene'\n",
    "# 'analytic_sr_udm2' is the basic surface reflectance corrected image, 4 bands\n",
    "bundle = 'analytic_sr_udm2'\n",
    "# and the 8 band version\n",
    "# bundle = 'analytic_8b_sr_udm2'"
   ]
  },
  {
   "cell_type": "code",
   "execution_count": 70,
   "metadata": {},
   "outputs": [
    {
     "name": "stdout",
     "output_type": "stream",
     "text": [
      "[{'clip': {'aoi': {'coordinates': [[[-93.68086364941513, 41.98756192166665],\n",
      "                                    [-93.6528361843452, 41.98776639086707],\n",
      "                                    [-93.65305262630085, 41.97616375402928],\n",
      "                                    [-93.68074095705796, 41.97604456369364],\n",
      "                                    [-93.68086364941513, 41.98756192166665]]],\n",
      "                   'type': 'Polygon'}}},\n",
      " {'bandmath': {'b1': '(b4 - b3) / (b4+b3)', 'pixel_type': '32R'}}]\n"
     ]
    }
   ],
   "source": [
    "# specify tools\n",
    "\n",
    "# clip to AOI\n",
    "clip_tool = {'clip': {'aoi': aoi_coords}}\n",
    "\n",
    "# convert to NDVI\n",
    "bandmath_tool = {'bandmath': {\n",
    "    \"pixel_type\": \"32R\",\n",
    "    \"b1\": \"(b4 - b3) / (b4+b3)\"\n",
    "}}\n",
    "\n",
    "tools = [clip_tool, bandmath_tool]\n",
    "pprint(tools)"
   ]
  },
  {
   "cell_type": "code",
   "execution_count": 74,
   "metadata": {},
   "outputs": [],
   "source": [
    "name = 'tutorial_order'\n",
    "\n",
    "orders_request = {\n",
    "    'name': name,\n",
    "    'products': [{\n",
    "        'item_ids': ids,\n",
    "        'item_type': item_type,\n",
    "        'product_bundle': bundle\n",
    "    }],\n",
    "    'tools': tools,\n",
    "    'delivery': {\n",
    "        'single_archive': True,\n",
    "        'archive_filename':'{{name}}_{{order_id}}.zip',\n",
    "        'archive_type':'zip'\n",
    "    },\n",
    "        'notifications': {\n",
    "                   'email': False\n",
    "    },\n",
    "}\n",
    "\n",
    "# pprint(orders_request, indent=1)"
   ]
  },
  {
   "cell_type": "code",
   "execution_count": 75,
   "metadata": {},
   "outputs": [
    {
     "data": {
      "text/plain": [
       "'4fc4e8f9-58e4-4521-966d-56a34ee41797'"
      ]
     },
     "execution_count": 75,
     "metadata": {},
     "output_type": "execute_result"
    }
   ],
   "source": [
    "order_info = client.create_order(orders_request).get()\n",
    "\n",
    "order_id = order_info['id']\n",
    "order_id"
   ]
  },
  {
   "cell_type": "code",
   "execution_count": 87,
   "metadata": {},
   "outputs": [
    {
     "data": {
      "text/plain": [
       "'https://api.planet.com/compute/ops/orders/v2/4fc4e8f9-58e4-4521-966d-56a34ee41797'"
      ]
     },
     "execution_count": 87,
     "metadata": {},
     "output_type": "execute_result"
    }
   ],
   "source": [
    "order_info['_links']['_self']"
   ]
  },
  {
   "cell_type": "code",
   "execution_count": 77,
   "metadata": {},
   "outputs": [
    {
     "name": "stdout",
     "output_type": "stream",
     "text": [
      "success\n"
     ]
    }
   ],
   "source": [
    "def poll_for_success(order_id, client, num_loops=50) -> None:\n",
    "    count = 0\n",
    "    while(count < num_loops):\n",
    "        count += 1\n",
    "        order_info = client.get_individual_order(order_id).get()\n",
    "        state = order_info['state']\n",
    "        print(state)\n",
    "        success_states = ['success', 'partial']\n",
    "        if state == 'failed':\n",
    "            raise Exception(response)\n",
    "        elif state in success_states:\n",
    "            break\n",
    "        \n",
    "        time.sleep(30)\n",
    "        \n",
    "poll_for_success(order_id, client)"
   ]
  },
  {
   "cell_type": "code",
   "execution_count": 78,
   "metadata": {},
   "outputs": [],
   "source": [
    "demo_data_dir = os.path.join('data', 'demo')\n",
    "# make the download directory if it doesn't exist\n",
    "Path(demo_data_dir).mkdir(parents=True, exist_ok=True)"
   ]
  },
  {
   "cell_type": "code",
   "execution_count": null,
   "metadata": {},
   "outputs": [],
   "source": [
    "orders_url = order_info['_links']['_self']"
   ]
  },
  {
   "cell_type": "code",
   "execution_count": null,
   "metadata": {},
   "outputs": [],
   "source": [
    "def download_order(order_url, auth, overwrite=False):\n",
    "    r = requests.get(order_url, auth=auth)\n",
    "    print(r)\n",
    "\n",
    "    response = r.json()\n",
    "    results = response['_links']['results']\n",
    "    results_urls = [r['location'] for r in results]\n",
    "    results_names = [r['name'] for r in results]\n",
    "    results_paths = [pathlib.Path(os.path.join('data', n)) for n in results_names]\n",
    "    print('{} items to download'.format(len(results_urls)))\n",
    "    \n",
    "    for url, name, path in zip(results_urls, results_names, results_paths):\n",
    "        if overwrite or not path.exists():\n",
    "            print('downloading {} to {}'.format(name, path))\n",
    "            r = requests.get(url, allow_redirects=True)\n",
    "            path.parent.mkdir(parents=True, exist_ok=True)\n",
    "            open(path, 'wb').write(r.content)\n",
    "        else:\n",
    "            print('{} already exists, skipping {}'.format(path, name))\n",
    "            \n",
    "    return dict(zip(results_names, results_paths))"
   ]
  },
  {
   "cell_type": "code",
   "execution_count": 89,
   "metadata": {},
   "outputs": [
    {
     "data": {
      "text/plain": [
       "['{\"_links\": {\"_self\": \"https://api.planet.com/compute/ops/orders/v2/4fc4e8f9-58e4-4521-966d-56a34ee41797\", \"results\": [{\"delivery\": \"success\", \"expires_at\": \"2022-09-28T18:05:21.663Z\", \"location\": \"https://api.planet.com/compute/ops/download/?token=eyJhbGciOiJIUzUxMiIsInR5cCI6IkpXVCJ9.eyJleHAiOjE2NjQzODgzMjEsInN1YiI6ImZPalVuaFpvL0YzRWhkbGpWVG85K0ExNVFEOHFwQTMrTWZPUzFnVDNRSzBNcXBVWFI0VGNEY0tkRmRCOFU3TXZEUHBVSTJqekNwd2lycDRzUkhNQlZRPT0iLCJ0b2tlbl90eXBlIjoiZG93bmxvYWQtYXNzZXQtc3RhY2siLCJhb2kiOiIiLCJhc3NldHMiOlt7Iml0ZW1fdHlwZSI6IiIsImFzc2V0X3R5cGUiOiIiLCJpdGVtX2lkIjoiIn1dLCJ1cmwiOiJodHRwczovL3N0b3JhZ2UuZ29vZ2xlYXBpcy5jb20vY29tcHV0ZS1vcmRlcnMtbGl2ZS80ZmM0ZThmOS01OGU0LTQ1MjEtOTY2ZC01NmEzNGVlNDE3OTcvdHV0b3JpYWxfb3JkZXJfNGZjNGU4ZjktNThlNC00NTIxLTk2NmQtNTZhMzRlZTQxNzk3LnppcD9FeHBpcmVzPTE2NjQzODgzMjFcdTAwMjZHb29nbGVBY2Nlc3NJZD1jb21wdXRlLWdjcy1zdmNhY2MlNDBwbGFuZXQtY29tcHV0ZS1wcm9kLmlhbS5nc2VydmljZWFjY291bnQuY29tXHUwMDI2U2lnbmF0dXJlPWYxWGREZE5vbHF3Q3ZwViUyQjZBT1FMYlZobzB4TmFGbiUyQjlFMlJtb0RnUklLOWp5dGlGbEpxaXVhZ1ZqWGFLNFpSWTYwMzVORXYzWndaclhRUTNDWTRNUkdLaWg4Y210MUkxUGpFYmZDc3lCMW54QnZ0U0NrUE52eEtQOE92ZXdJYUlISXZHY0FUUUFzZnRESUglMkJpRVE3YXhEUll2Y1h5b2pEdE1Rd1NOUXNYdTVGMEN1Q20lMkZlRmdMM0lSWThqRW1jQzJWZSUyQjQlMkZCbDVaR0lEeWpLcXo3NHBFbCUyRk1talhxM2l0cDh6Y215S0Y3a3M0dFpBbm1xaTF4JTJCQ0FDaGtpQWhjJTJGdVpwaHhoYmozMkJRbUdsMHpYZEVPN1VZVklKa3JFaHpKbklrclRKSlhRYzZMaEZQSDJlN29iRDdBQUtod0NqcTR3YmRwekVGUWZSS1dLJTJGWU92ejBBJTNEJTNEIiwic291cmNlIjoiT3JkZXJzIFNlcnZpY2UifQ.1lq-ESApxksvJWKl4vVYTUtLiVRpp0WPaDmVnmkQmfipTPcyqhSarQx1bG1ffxnOFLv_gl-sHdNDMg2fA0Mu9A\", \"name\": \"4fc4e8f9-58e4-4521-966d-56a34ee41797/tutorial_order_4fc4e8f9-58e4-4521-966d-56a34ee41797.zip\"}, {\"delivery\": \"success\", \"expires_at\": \"2022-09-28T18:05:21.666Z\", \"location\": \"https://api.planet.com/compute/ops/download/?token=eyJhbGciOiJIUzUxMiIsInR5cCI6IkpXVCJ9.eyJleHAiOjE2NjQzODgzMjEsInN1YiI6Iks1RVd3SjdjNDluSWdBcWw2ZUxGaGtOelRYMS9QS0c2di9sd3dpSXBGWW1kVFI1a3NXampPaUh3ZXZMV3pnT2hpNjkwY2xVaWtqak9JYkRESW8yL2tnPT0iLCJ0b2tlbl90eXBlIjoiZG93bmxvYWQtYXNzZXQtc3RhY2siLCJhb2kiOiIiLCJhc3NldHMiOlt7Iml0ZW1fdHlwZSI6IiIsImFzc2V0X3R5cGUiOiIiLCJpdGVtX2lkIjoiIn1dLCJ1cmwiOiJodHRwczovL3N0b3JhZ2UuZ29vZ2xlYXBpcy5jb20vY29tcHV0ZS1vcmRlcnMtbGl2ZS80ZmM0ZThmOS01OGU0LTQ1MjEtOTY2ZC01NmEzNGVlNDE3OTcvbWFuaWZlc3QuanNvbj9FeHBpcmVzPTE2NjQzODgzMjFcdTAwMjZHb29nbGVBY2Nlc3NJZD1jb21wdXRlLWdjcy1zdmNhY2MlNDBwbGFuZXQtY29tcHV0ZS1wcm9kLmlhbS5nc2VydmljZWFjY291bnQuY29tXHUwMDI2U2lnbmF0dXJlPWt4a1RXQnZjeFY3VUQ2VTBwaWlUdVBjYkRJQ2kzYjFsQmVVWTd4Q1lodjB4anluSkpBM1l6R2RFaXQ5MHR1SmdyTHQ4U3p2WGtzdUFjV2trMHFudGd5T0JtVDF1JTJGQmdob3NZQzl6MnlOcXhnRUdwWCUyQlBlJTJGMUtVVDZodWVFdTJvT2dCM0JKWDM5eFd1RjNBWmc3SWdjZiUyRjIyYVBJSHVuMWxMUjZ0T2xQJTJGTkl1S0pKQVgyc2dESDR5Ym9SWnVaMlp4RE1IbjhLYnpsZWZ4YzR5RFN2N1hvcU04SDhndEdpb0lySlhXYiUyQkZRM2FuNWF3V1RxbzZSY2tIekI5JTJGbmRLQUJoS1dyOFlHYTJRNThHWTJjQ0Y2bXh0T3dtVXVsVkUwdjBJUWtNb1d0U3ElMkYxb08lMkJIJTJCZE9PM2VDSWFPVDJvUE9MUTF1YyUyQmJHNGhoZjJRcjVKbjZPYVElM0QlM0QiLCJzb3VyY2UiOiJPcmRlcnMgU2VydmljZSJ9.GA9rYv0zHQKNuq8W0yiXgrS_B4vn27IOQv_nyDxNgfmwoj60vuEU2l1pNw_8HKtHoWn5r_Ijb8mSwORuLgWMRQ\", \"name\": \"4fc4e8f9-58e4-4521-966d-56a34ee41797/manifest.json\"}]}, \"created_on\": \"2022-09-27T16:39:51.705Z\", \"delivery\": {\"archive_filename\": \"{{name}}_{{order_id}}.zip\", \"archive_type\": \"zip\", \"single_archive\": true}, \"error_hints\": [], \"id\": \"4fc4e8f9-58e4-4521-966d-56a34ee41797\", \"last_message\": \"Manifest delivery completed\", \"last_modified\": \"2022-09-27T16:48:48.035Z\", \"name\": \"tutorial_order\", \"notifications\": {}, \"products\": [{\"item_ids\": [\"20190629_153143_1020\", \"20190629_164329_1024\"], \"item_type\": \"PSScene\", \"product_bundle\": \"analytic_sr_udm2\"}], \"state\": \"success\", \"tools\": [{\"clip\": {\"aoi\": {\"coordinates\": [[[-93.68086364941513, 41.98756192166665], [-93.6528361843452, 41.98776639086707], [-93.65305262630085, 41.97616375402928], [-93.68074095705796, 41.97604456369364], [-93.68086364941513, 41.98756192166665]]], \"type\": \"Polygon\"}}}, {\"bandmath\": {\"b1\": \"(b4 - b3) / (b4+b3)\", \"pixel_type\": \"32R\"}}]}']"
      ]
     },
     "execution_count": 89,
     "metadata": {},
     "output_type": "execute_result"
    }
   ],
   "source": [
    "%system planet orders download 4fc4e8f9-58e4-4521-966d-56a34ee41797"
   ]
  },
  {
   "cell_type": "code",
   "execution_count": null,
   "metadata": {},
   "outputs": [],
   "source": []
  }
 ],
 "metadata": {
  "kernelspec": {
   "display_name": "Python 3.9.12 ('planet')",
   "language": "python",
   "name": "python3"
  },
  "language_info": {
   "codemirror_mode": {
    "name": "ipython",
    "version": 3
   },
   "file_extension": ".py",
   "mimetype": "text/x-python",
   "name": "python",
   "nbconvert_exporter": "python",
   "pygments_lexer": "ipython3",
   "version": "3.9.12"
  },
  "orig_nbformat": 4,
  "vscode": {
   "interpreter": {
    "hash": "57dc46574ecbfb48a4199186ab55e2ef0b798610ca4f00269d6393d44ab62535"
   }
  }
 },
 "nbformat": 4,
 "nbformat_minor": 2
}
